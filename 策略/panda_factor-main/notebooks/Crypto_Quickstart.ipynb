{
 "cells": [
  {
   "cell_type": "markdown",
   "metadata": {},
   "source": [
    "# Crypto Quickstart (加密货币快速上手)\n\n",
    "本 Notebook 演示：\n",
    "- 通过 CCXT 抓取 BINANCE BTC/ETH 的日线/分钟数据并入库 MongoDB；\n",
    "- 使用 panda_data 查询已入库数据并简单绘图。\n\n",
    "前置：\n",
    "- 请先按仓库 AGENTS.md 指引在 \u201c策略/panda_factor-main\u201d 下完成可编辑安装；\n",
    "- 安装依赖：`pip install ccxt pandas matplotlib pymongo`.\n"
   ]
  },
  {
   "cell_type": "code",
   "execution_count": null,
   "metadata": {},
   "outputs": [],
   "source": [
    "# 环境准备：将项目根的子包加入路径\n",
    "import os, sys\n",
    "# 假设在 notebooks/ 目录内运行\n",
    "sys.path.append(os.path.abspath('..'))  # 以便导入 tools 与 panda_* 包\n",
    "\n",
    "import panda_data\n",
    "panda_data.init()\n",
    "print('panda_data 初始化完成')\n"
   ]
  },
  {
   "cell_type": "code",
   "execution_count": null,
   "metadata": {},
   "outputs": [],
   "source": [
    "# 可选：使用 CCXT 脚本导入数据（按需运行）\n",
    "from tools.crypto_ccxt_ingest import ingest\n",
    "\n",
    "# 示例：导入 BINANCE BTC/USDT 的 2024-01-01 至 2024-01-10 日线\n",
    "# ingest('binance', ['BTC/USDT'], '1d', '20240101', '20240110')\n",
    "# 示例：导入 1 分钟数据（注意数据量与速率限制）\n",
    "# ingest('binance', ['BTC/USDT'], '1m', '20240101', '20240102')\n",
    "\n",
    "print('如需导入，请取消上面的注释并运行该单元')\n"
   ]
  },
  {
   "cell_type": "code",
   "execution_count": null,
   "metadata": {},
   "outputs": [],
   "source": [
    "# 查询日线数据（已入库）\n",
    "import pandas as pd\n",
    "df = panda_data.get_crypto_market_data(\n",
    "    start_date='20240101', end_date='20240110',\n",
    "    symbols=['BINANCE:BTCUSDT'],\n",
    "    fields=['date','symbol','open','high','low','close','volume']\n",
    ")\n",
    "df = df.sort_values('date') if df is not None else None\n",
    "df.head() if df is not None else '未查询到数据，请先导入或调整时间范围/符号'\n"
   ]
  },
  {
   "cell_type": "code",
   "execution_count": null,
   "metadata": {},
   "outputs": [],
   "source": [
    "# 简单绘图\n",
    "if df is not None and not df.empty:\n",
    "    try:\n",
    "        import matplotlib.pyplot as plt\n",
    "        plt.figure(figsize=(8,3))\n",
    "        plt.plot(pd.to_datetime(df['date']), df['close'], label='Close')\n",
    "        plt.title('BINANCE:BTCUSDT Close')\n",
    "        plt.grid(True)\n",
    "        plt.legend()\n",
    "        plt.show()\n",
    "    except Exception as e:\n",
    "        print('绘图失败：', e)\n",
    "else:\n",
    "    print('无数据可绘图。')\n"
   ]
  }
 ],
 "metadata": {
  "kernelspec": {
   "display_name": "Python 3",
   "language": "python",
   "name": "python3"
  },
  "language_info": {
   "name": "python",
   "version": "3"
  }
 },
 "nbformat": 4,
 "nbformat_minor": 5
}

